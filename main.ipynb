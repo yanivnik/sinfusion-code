{
 "cells": [
  {
   "cell_type": "markdown",
   "metadata": {},
   "source": [
    "## Denoising Diffusion Probabilistic Models"
   ]
  },
  {
   "cell_type": "code",
   "execution_count": 5,
   "metadata": {},
   "outputs": [
    {
     "name": "stdout",
     "output_type": "stream",
     "text": [
      "\u001b[1m\u001b[37mn101.mcl.weizmann.ac.il\u001b[m  Sun Mar 13 16:36:11 2022  \u001b[1m\u001b[30m450.51.05\u001b[m\r\n",
      "\u001b[36m[0]\u001b[m \u001b[34mTesla V100-PCIE-32GB\u001b[m |\u001b[31m 30'C\u001b[m, \u001b[32m  0 %\u001b[m | \u001b[36m\u001b[1m\u001b[33m    0\u001b[m / \u001b[33m32510\u001b[m MB |\r\n",
      "\u001b[36m[1]\u001b[m \u001b[34mTesla V100-PCIE-32GB\u001b[m |\u001b[31m 29'C\u001b[m, \u001b[32m  0 %\u001b[m | \u001b[36m\u001b[1m\u001b[33m    0\u001b[m / \u001b[33m32510\u001b[m MB |\r\n",
      "\u001b[36m[2]\u001b[m \u001b[34mTesla V100-PCIE-32GB\u001b[m |\u001b[31m 28'C\u001b[m, \u001b[32m  0 %\u001b[m | \u001b[36m\u001b[1m\u001b[33m    4\u001b[m / \u001b[33m32510\u001b[m MB |\r\n",
      "\u001b[36m[3]\u001b[m \u001b[34mTesla V100-PCIE-32GB\u001b[m |\u001b[31m 30'C\u001b[m, \u001b[32m  0 %\u001b[m | \u001b[36m\u001b[1m\u001b[33m    0\u001b[m / \u001b[33m32510\u001b[m MB |\r\n",
      "\u001b[36m[4]\u001b[m \u001b[34mTesla V100-PCIE-32GB\u001b[m |\u001b[31m 28'C\u001b[m, \u001b[32m  0 %\u001b[m | \u001b[36m\u001b[1m\u001b[33m    0\u001b[m / \u001b[33m32510\u001b[m MB |\r\n",
      "\u001b[36m[5]\u001b[m \u001b[34mTesla V100-PCIE-32GB\u001b[m |\u001b[31m 27'C\u001b[m, \u001b[32m  0 %\u001b[m | \u001b[36m\u001b[1m\u001b[33m    0\u001b[m / \u001b[33m32510\u001b[m MB |\r\n"
     ]
    }
   ],
   "source": [
    "!gpustat"
   ]
  },
  {
   "cell_type": "code",
   "execution_count": 6,
   "metadata": {},
   "outputs": [
    {
     "name": "stdout",
     "output_type": "stream",
     "text": [
      "The autoreload extension is already loaded. To reload it, use:\n",
      "  %reload_ext autoreload\n"
     ]
    }
   ],
   "source": [
    "%load_ext autoreload\n",
    "%autoreload 2"
   ]
  },
  {
   "cell_type": "code",
   "execution_count": 7,
   "metadata": {},
   "outputs": [
    {
     "data": {
      "text/html": [
       "<style>.container { width:100% !important; }</style>"
      ],
      "text/plain": [
       "<IPython.core.display.HTML object>"
      ]
     },
     "metadata": {},
     "output_type": "display_data"
    },
    {
     "name": "stdout",
     "output_type": "stream",
     "text": [
      "device=cuda:0\n"
     ]
    }
   ],
   "source": [
    "import os\n",
    "os.environ['CUDA_VISIBLE_DEVICES'] = '2'\n",
    "from common_utils.notebook_utils import *"
   ]
  },
  {
   "cell_type": "code",
   "execution_count": 18,
   "metadata": {},
   "outputs": [],
   "source": [
    "from torch.utils.data import DataLoader\n",
    "import torchvision\n",
    "import imageio\n",
    "import glob\n",
    "import pytorch_lightning as pl\n",
    "\n",
    "from datasets.places365 import Places365\n",
    "from datasets.diffset import DiffSet\n",
    "from model import DiffusionModel"
   ]
  },
  {
   "cell_type": "markdown",
   "metadata": {},
   "source": [
    "### Set model parameters"
   ]
  },
  {
   "cell_type": "code",
   "execution_count": 15,
   "metadata": {},
   "outputs": [],
   "source": [
    "# Training hyperparameters\n",
    "diffusion_steps = 1000\n",
    "dataset_choice = \"MNIST\"\n",
    "max_epoch = 10\n",
    "batch_size = 128\n",
    "\n",
    "# Loading parameters\n",
    "load_model = False\n",
    "load_version_num = 1"
   ]
  },
  {
   "cell_type": "markdown",
   "metadata": {},
   "source": [
    "### Load dataset and train model"
   ]
  },
  {
   "cell_type": "code",
   "execution_count": 16,
   "metadata": {},
   "outputs": [],
   "source": [
    "# Code for optionally loading model\n",
    "pass_version = None\n",
    "last_checkpoint = None\n",
    "\n",
    "if load_model:\n",
    "    pass_version = load_version_num\n",
    "    last_checkpoint = glob.glob(\n",
    "        f\"./lightning_logs/{dataset_choice}/version_{load_version_num}/checkpoints/*.ckpt\"\n",
    "    )[-1]"
   ]
  },
  {
   "cell_type": "code",
   "execution_count": 19,
   "metadata": {},
   "outputs": [],
   "source": [
    "# Create datasets and data loaders\n",
    "if dataset_choice in ['MNIST', 'CIFAR']:\n",
    "    train_dataset = DiffSet(train=True, root='/net/mraid11/export/vision/datasets/', dataset=dataset_choice)\n",
    "    val_dataset = DiffSet(train=False, root='/net/mraid11/export/vision/datasets/', dataset=dataset_choice)\n",
    "    train_loader = DataLoader(train_dataset, batch_size=batch_size, num_workers=4, shuffle=True)\n",
    "    val_loader = DataLoader(val_dataset, batch_size=batch_size, num_workers=4, shuffle=True)\n",
    "elif dataset_choice == 'PLACES365':\n",
    "    train_dataset = Places365(train=True, root='/net/mraid11/export/data/nivh/datasets/places365_standard/')\n",
    "    val_dataset = Places365(train=False, root='/net/mraid11/export/data/nivh/datasets/places365_standard/')\n",
    "    train_loader = DataLoader(train_dataset, batch_size=batch_size, num_workers=4, shuffle=True)\n",
    "    val_loader = DataLoader(val_dataset, batch_size=batch_size, num_workers=4, shuffle=True)\n",
    "else:\n",
    "    raise \"Unsupported dataset\"\n",
    "\n",
    "# Create model and trainer\n",
    "if load_model:\n",
    "    model = DiffusionModel.load_from_checkpoint(last_checkpoint, in_size=train_dataset.size*train_dataset.size, t_range=diffusion_steps, img_depth=train_dataset.depth)\n",
    "else:\n",
    "    model = DiffusionModel(train_dataset.size*train_dataset.size, diffusion_steps, train_dataset.depth)"
   ]
  },
  {
   "cell_type": "code",
   "execution_count": 20,
   "metadata": {},
   "outputs": [
    {
     "name": "stderr",
     "output_type": "stream",
     "text": [
      "GPU available: True, used: True\n",
      "TPU available: False, using: 0 TPU cores\n",
      "IPU available: False, using: 0 IPUs\n"
     ]
    }
   ],
   "source": [
    "# Load Trainer model\n",
    "tb_logger = pl.loggers.TensorBoardLogger(\n",
    "    \"lightning_logs/\",\n",
    "    name=dataset_choice,\n",
    "    version=pass_version,\n",
    ")\n",
    "\n",
    "trainer = pl.Trainer(\n",
    "    max_epochs=max_epoch, \n",
    "    log_every_n_steps=10, \n",
    "    gpus=1, \n",
    "    auto_select_gpus=True,\n",
    "    resume_from_checkpoint=last_checkpoint, \n",
    "    logger=tb_logger\n",
    ")"
   ]
  },
  {
   "cell_type": "code",
   "execution_count": 21,
   "metadata": {},
   "outputs": [
    {
     "name": "stderr",
     "output_type": "stream",
     "text": [
      "LOCAL_RANK: 0 - CUDA_VISIBLE_DEVICES: [2]\n",
      "Missing logger folder: lightning_logs/MNIST\n",
      "\n",
      "   | Name  | Type       | Params\n",
      "--------------------------------------\n",
      "0  | inc   | DoubleConv | 37.7 K\n",
      "1  | down1 | Down       | 295 K \n",
      "2  | down2 | Down       | 1.2 M \n",
      "3  | down3 | Down       | 2.4 M \n",
      "4  | up1   | Up         | 6.2 M \n",
      "5  | up2   | Up         | 1.5 M \n",
      "6  | up3   | Up         | 406 K \n",
      "7  | outc  | OutConv    | 65    \n",
      "8  | sa1   | SAWrapper  | 395 K \n",
      "9  | sa2   | SAWrapper  | 395 K \n",
      "10 | sa3   | SAWrapper  | 99.6 K\n",
      "--------------------------------------\n",
      "12.9 M    Trainable params\n",
      "0         Non-trainable params\n",
      "12.9 M    Total params\n",
      "51.676    Total estimated model params size (MB)\n"
     ]
    },
    {
     "data": {
      "application/vnd.jupyter.widget-view+json": {
       "model_id": "",
       "version_major": 2,
       "version_minor": 0
      },
      "text/plain": [
       "Validation sanity check: 0it [00:00, ?it/s]"
      ]
     },
     "metadata": {},
     "output_type": "display_data"
    },
    {
     "data": {
      "application/vnd.jupyter.widget-view+json": {
       "model_id": "c68492a3130b426bbe64749de492e2e5",
       "version_major": 2,
       "version_minor": 0
      },
      "text/plain": [
       "Training: 0it [00:00, ?it/s]"
      ]
     },
     "metadata": {},
     "output_type": "display_data"
    },
    {
     "name": "stderr",
     "output_type": "stream",
     "text": [
      "/home/yanivni/data/bin/miniconda3/lib/python3.9/site-packages/pytorch_lightning/trainer/trainer.py:688: UserWarning: Detected KeyboardInterrupt, attempting graceful shutdown...\n",
      "  rank_zero_warn(\"Detected KeyboardInterrupt, attempting graceful shutdown...\")\n"
     ]
    }
   ],
   "source": [
    "# Train model\n",
    "trainer.fit(model, train_loader, val_loader)"
   ]
  },
  {
   "cell_type": "markdown",
   "metadata": {},
   "source": [
    "### Sample from model"
   ]
  },
  {
   "cell_type": "code",
   "execution_count": null,
   "metadata": {},
   "outputs": [],
   "source": [
    "gif_shape = [3, 3]\n",
    "sample_batch_size = gif_shape[0] * gif_shape[1]\n",
    "n_hold_final = 10\n",
    "\n",
    "# Generate samples from denoising process\n",
    "gen_samples = []\n",
    "x = torch.randn((sample_batch_size, train_dataset.depth, train_dataset.size, train_dataset.size))\n",
    "sample_steps = torch.arange(model.t_range-1, 0, -1)\n",
    "for t in sample_steps:\n",
    "    x = model.denoise_sample(x, t)\n",
    "    if t % 50 == 0:\n",
    "        gen_samples.append(x)\n",
    "for _ in range(n_hold_final):\n",
    "    gen_samples.append(x)\n",
    "gen_samples = torch.stack(gen_samples, dim=0).moveaxis(2, 4).squeeze(-1)\n",
    "gen_samples = (gen_samples.clamp(-1, 1) + 1) / 2"
   ]
  },
  {
   "cell_type": "code",
   "execution_count": null,
   "metadata": {},
   "outputs": [],
   "source": [
    "# Process samples and save as gif\n",
    "gen_samples = (gen_samples * 255).type(torch.uint8)\n",
    "gen_samples = gen_samples.reshape(-1, gif_shape[0], gif_shape[1], train_dataset.size, train_dataset.size, train_dataset.depth)\n",
    "\n",
    "def stack_samples(gen_samples, stack_dim):\n",
    "    gen_samples = list(torch.split(gen_samples, 1, dim=1))\n",
    "    for i in range(len(gen_samples)):\n",
    "        gen_samples[i] = gen_samples[i].squeeze(1)\n",
    "    return torch.cat(gen_samples, dim=stack_dim)\n",
    "\n",
    "gen_samples = stack_samples(gen_samples, 2)\n",
    "gen_samples = stack_samples(gen_samples, 2)\n",
    "\n",
    "imageio.mimsave(\n",
    "    f\"{trainer.logger.log_dir}/pred.gif\",\n",
    "    list(gen_samples),\n",
    "    fps=5,\n",
    ")"
   ]
  }
 ],
 "metadata": {
  "interpreter": {
   "hash": "78f961cc1adb1d23b163d13487a7bbea047622fac31372ac86f89c77664d2955"
  },
  "kernelspec": {
   "display_name": "Python 3",
   "language": "python",
   "name": "python3"
  },
  "language_info": {
   "codemirror_mode": {
    "name": "ipython",
    "version": 3
   },
   "file_extension": ".py",
   "mimetype": "text/x-python",
   "name": "python",
   "nbconvert_exporter": "python",
   "pygments_lexer": "ipython3",
   "version": "3.9.7"
  }
 },
 "nbformat": 4,
 "nbformat_minor": 2
}
